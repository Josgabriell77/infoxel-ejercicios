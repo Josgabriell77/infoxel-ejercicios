{
 "cells": [
  {
   "cell_type": "code",
   "execution_count": 8,
   "metadata": {},
   "outputs": [],
   "source": [
    "from matplotlib.image import imread\n",
    "from matplotlib import pyplot as plt\n",
    "import numpy as np"
   ]
  },
  {
   "cell_type": "markdown",
   "metadata": {},
   "source": [
    "# Resolver lo pedido en cada celda\n",
    "\n",
    "- No puede importar mas librerías de las ya importadas\n",
    "- Si tiene problemas al cargar la imagen o al importar algunas de las librerías, instale las librerías necesarias"
   ]
  },
  {
   "cell_type": "code",
   "execution_count": 44,
   "metadata": {},
   "outputs": [],
   "source": [
    "# Cargamos imagen del panda\n",
    "X_1 = imread('panda.jpeg')"
   ]
  },
  {
   "cell_type": "code",
   "execution_count": 91,
   "metadata": {},
   "outputs": [],
   "source": [
    "# Ejercicio 0\n",
    "# Mostrar imagen X_1 usando imshow de la librería matplotlib"
   ]
  },
  {
   "cell_type": "code",
   "execution_count": 46,
   "metadata": {},
   "outputs": [],
   "source": [
    "# Ejercicio 1\n",
    "# ¿Que ancho y alto tiene la imágen?\n",
    "# (Solo con un comando)"
   ]
  },
  {
   "cell_type": "code",
   "execution_count": 47,
   "metadata": {},
   "outputs": [],
   "source": [
    "# Ejercicio 2\n",
    "# Mostrar la componente de rojo de la imagen usando imshow e indexando X. Mostrarlo en escala de grises\n",
    "# (Solo con un comando)"
   ]
  },
  {
   "cell_type": "code",
   "execution_count": null,
   "metadata": {},
   "outputs": [],
   "source": [
    "# Ejercicio 3\n",
    "# Mostrar la imagen cropeada en X 100 a 170, en Y 40 a 120\n",
    "# (Solo con un comando)\n"
   ]
  },
  {
   "cell_type": "code",
   "execution_count": 67,
   "metadata": {},
   "outputs": [],
   "source": [
    "# Cargamos imagen del mono\n",
    "X_2 = imread('monkey.jpeg')"
   ]
  },
  {
   "cell_type": "code",
   "execution_count": 55,
   "metadata": {},
   "outputs": [],
   "source": [
    "# Ejercicio 4\n",
    "# Cropear las imagenes para que queden del mismo tamaño y concatenarlas vertical y horizonalmente en una única imagen \n",
    "# Mostrar los resultado concatenados\n",
    "# (Cada concatenación se puede hacer en una sola linea de codigo (Mirar vstack y hstack))"
   ]
  },
  {
   "cell_type": "code",
   "execution_count": 66,
   "metadata": {},
   "outputs": [],
   "source": [
    "# Ejercicio 5\n",
    "# Graficar un histograma de la componente azul del mono"
   ]
  },
  {
   "cell_type": "code",
   "execution_count": 68,
   "metadata": {},
   "outputs": [],
   "source": [
    "from collections import Counter"
   ]
  },
  {
   "cell_type": "code",
   "execution_count": 73,
   "metadata": {},
   "outputs": [],
   "source": [
    "# Ejercicio 6\n",
    "# Imprimir los 20 valores de intensidad de rojo que más aparecen en el panda\n",
    "# ¿Cuantas veces aparece la componente 172?"
   ]
  },
  {
   "cell_type": "code",
   "execution_count": 89,
   "metadata": {},
   "outputs": [],
   "source": [
    "# Ejercicio 7\n",
    "# Armar una máscara que multiplique por 0 a todos los pixeles que tienen una intensidad de color de rojo < 200 y por 1 al resto\n",
    "mask = \n",
    "plt.imshow(X_1 * mask)"
   ]
  },
  {
   "cell_type": "code",
   "execution_count": null,
   "metadata": {},
   "outputs": [],
   "source": []
  }
 ],
 "metadata": {
  "kernelspec": {
   "display_name": "Python [conda env:tensorflow2] *",
   "language": "python",
   "name": "conda-env-tensorflow2-py"
  },
  "language_info": {
   "codemirror_mode": {
    "name": "ipython",
    "version": 3
   },
   "file_extension": ".py",
   "mimetype": "text/x-python",
   "name": "python",
   "nbconvert_exporter": "python",
   "pygments_lexer": "ipython3",
   "version": "3.6.10"
  }
 },
 "nbformat": 4,
 "nbformat_minor": 4
}

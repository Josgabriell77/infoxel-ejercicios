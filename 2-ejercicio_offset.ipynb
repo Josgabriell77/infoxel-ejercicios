{
 "cells": [
  {
   "cell_type": "code",
   "execution_count": 1,
   "metadata": {},
   "outputs": [],
   "source": [
    "import numpy as np"
   ]
  },
  {
   "cell_type": "code",
   "execution_count": 2,
   "metadata": {},
   "outputs": [
    {
     "data": {
      "text/plain": [
       "5"
      ]
     },
     "execution_count": 2,
     "metadata": {},
     "output_type": "execute_result"
    }
   ],
   "source": [
    "matches_query = np.load('data/matches_query.npy', allow_pickle=True).item()\n",
    "len(matches_query)"
   ]
  },
  {
   "cell_type": "code",
   "execution_count": 3,
   "metadata": {},
   "outputs": [],
   "source": [
    "scene_fingerprints = np.load('data/scene_fingerprints.npy')"
   ]
  },
  {
   "cell_type": "code",
   "execution_count": 104,
   "metadata": {},
   "outputs": [
    {
     "data": {
      "text/plain": [
       "array([[  933, 12394]])"
      ]
     },
     "execution_count": 104,
     "metadata": {},
     "output_type": "execute_result"
    }
   ],
   "source": [
    "scene_fingerprints[scene_fingerprints[:, 1] == 12394]\n",
    "#492 - 486\n",
    "#len(matches_query['aggregations']['scenes']['buckets'])"
   ]
  },
  {
   "cell_type": "code",
   "execution_count": 102,
   "metadata": {},
   "outputs": [
    {
     "data": {
      "text/plain": [
       "[{'_index': 'fingerprints_patterns',\n",
       "  '_type': '_doc',\n",
       "  '_id': 'OU2-wnQBLzZZGVzjBi1-',\n",
       "  '_score': 0.0,\n",
       "  '_source': {'offset': 344, 'hash': 16427}},\n",
       " {'_index': 'fingerprints_patterns',\n",
       "  '_type': '_doc',\n",
       "  '_id': 'RU2-wnQBLzZZGVzjBi1-',\n",
       "  '_score': 0.0,\n",
       "  '_source': {'offset': 366, 'hash': 16427}},\n",
       " {'_index': 'fingerprints_patterns',\n",
       "  '_type': '_doc',\n",
       "  '_id': '4k2-wnQBLzZZGVzjBit-',\n",
       "  '_score': 0.0,\n",
       "  '_source': {'offset': 23, 'hash': 12394}},\n",
       " {'_index': 'fingerprints_patterns',\n",
       "  '_type': '_doc',\n",
       "  '_id': 'VE2-wnQBLzZZGVzjBix-',\n",
       "  '_score': 0.0,\n",
       "  '_source': {'offset': 86, 'hash': 16427}},\n",
       " {'_index': 'fingerprints_patterns',\n",
       "  '_type': '_doc',\n",
       "  '_id': '702-wnQBLzZZGVzjBix-',\n",
       "  '_score': 0.0,\n",
       "  '_source': {'offset': 280, 'hash': 16427}},\n",
       " {'_index': 'fingerprints_patterns',\n",
       "  '_type': '_doc',\n",
       "  '_id': 'AU2-wnQBLzZZGVzjBi1-',\n",
       "  '_score': 0.0,\n",
       "  '_source': {'offset': 302, 'hash': 16427}},\n",
       " {'_index': 'fingerprints_patterns',\n",
       "  '_type': '_doc',\n",
       "  '_id': 'hk2-wnQBLzZZGVzjBix-',\n",
       "  '_score': 0.0,\n",
       "  '_source': {'offset': 129, 'hash': 16427}},\n",
       " {'_index': 'fingerprints_patterns',\n",
       "  '_type': '_doc',\n",
       "  '_id': '2k2-wnQBLzZZGVzjBix-',\n",
       "  '_score': 0.0,\n",
       "  '_source': {'offset': 258, 'hash': 16427}},\n",
       " {'_index': 'fingerprints_patterns',\n",
       "  '_type': '_doc',\n",
       "  '_id': '302-wnQBLzZZGVzjBit-',\n",
       "  '_score': 0.0,\n",
       "  '_source': {'offset': 21, 'hash': 16427}},\n",
       " {'_index': 'fingerprints_patterns',\n",
       "  '_type': '_doc',\n",
       "  '_id': 'KU2-wnQBLzZZGVzjBi1-',\n",
       "  '_score': 0.0,\n",
       "  '_source': {'offset': 323, 'hash': 16427}},\n",
       " {'_index': 'fingerprints_patterns',\n",
       "  '_type': '_doc',\n",
       "  '_id': 'O02-wnQBLzZZGVzjBi1-',\n",
       "  '_score': 0.0,\n",
       "  '_source': {'offset': 345, 'hash': 16427}}]"
      ]
     },
     "execution_count": 102,
     "metadata": {},
     "output_type": "execute_result"
    }
   ],
   "source": [
    "matches_query['aggregations']['scenes']['buckets'][2]['top_hits']['hits']['hits']"
   ]
  },
  {
   "cell_type": "code",
   "execution_count": 107,
   "metadata": {},
   "outputs": [
    {
     "data": {
      "text/plain": [
       "[{'key': 'DjvCu3QBoaf2Y_2A3bmT',\n",
       "  'offset': 6,\n",
       "  'offset_count': 212,\n",
       "  'offset_score': 0.1774058577405858},\n",
       " {'key': 'QpwOvHQBdT-cPgIEckxS',\n",
       "  'offset': 15,\n",
       "  'offset_count': 198,\n",
       "  'offset_score': 0.1752212389380531},\n",
       " {'key': '1MtUpXQBXtu81SlS8nsP',\n",
       "  'offset': 244,\n",
       "  'offset_count': 1,\n",
       "  'offset_score': 0.006329113924050633},\n",
       " {'key': 'lYJFpHQBOaObx7xaWbv5',\n",
       "  'offset': 391,\n",
       "  'offset_count': 1,\n",
       "  'offset_score': 0.005681818181818182},\n",
       " {'key': 'WkEslXQBkSohu0M7zw3h',\n",
       "  'offset': -18,\n",
       "  'offset_count': 2,\n",
       "  'offset_score': 0.0035026269702276708},\n",
       " {'key': 'lWGJqXQBE5vHt1SDbQAU',\n",
       "  'offset': 386,\n",
       "  'offset_count': 2,\n",
       "  'offset_score': 0.0018298261665141812},\n",
       " {'key': 'epIdqHQB3dj8gDV29z8G',\n",
       "  'offset': 287,\n",
       "  'offset_count': 1,\n",
       "  'offset_score': 0.005813953488372093},\n",
       " {'key': 'oR28onQBMd_8Sl4jtDNj',\n",
       "  'offset': 453,\n",
       "  'offset_count': 2,\n",
       "  'offset_score': 0.003780718336483932},\n",
       " {'key': '5ErZpXQB1fGddnL2pC6x',\n",
       "  'offset': -302,\n",
       "  'offset_count': 2,\n",
       "  'offset_score': 0.003861003861003861},\n",
       " {'key': 'LNb_nXQBe4SKL4KMoFAU',\n",
       "  'offset': 133,\n",
       "  'offset_count': 2,\n",
       "  'offset_score': 0.004576659038901602},\n",
       " {'key': 'pCKslHQB3F_7nxjBdcTb',\n",
       "  'offset': 529,\n",
       "  'offset_count': 2,\n",
       "  'offset_score': 0.0025940337224383916},\n",
       " {'key': 'TD4plXQBkSohu0M70Wjp',\n",
       "  'offset': 237,\n",
       "  'offset_count': 1,\n",
       "  'offset_score': 0.004830917874396135},\n",
       " {'key': 'grX3mXQBpGSy5GiACe0b',\n",
       "  'offset': 577,\n",
       "  'offset_count': 1,\n",
       "  'offset_score': 0.0014265335235378032},\n",
       " {'key': 'wqUvq3QBhBr8eN_GBcZt',\n",
       "  'offset': -305,\n",
       "  'offset_count': 4,\n",
       "  'offset_score': 0.004550625711035267},\n",
       " {'key': '8NlopXQBXtu81SlSyA-s',\n",
       "  'offset': 816,\n",
       "  'offset_count': 4,\n",
       "  'offset_score': 0.006932409012131715},\n",
       " {'key': 'GFeglnQBF2--7J35Fbbn',\n",
       "  'offset': 124,\n",
       "  'offset_count': 1,\n",
       "  'offset_score': 0.0035211267605633804},\n",
       " {'key': '5iJXq3QBI7-tBuBs7LV9',\n",
       "  'offset': -32,\n",
       "  'offset_count': 1,\n",
       "  'offset_score': 0.0014347202295552368},\n",
       " {'key': '1D8jm3QBpGSy5GiA_Egp',\n",
       "  'offset': 419,\n",
       "  'offset_count': 2,\n",
       "  'offset_score': 0.007407407407407408},\n",
       " {'key': '90KFmXQBx_UT1HwNqKFi',\n",
       "  'offset': 485,\n",
       "  'offset_count': 1,\n",
       "  'offset_score': 0.004347826086956522},\n",
       " {'key': 'MqD_o3QB_ZhMlaYTpYeL',\n",
       "  'offset': 75,\n",
       "  'offset_count': 2,\n",
       "  'offset_score': 0.0034904013961605585},\n",
       " {'key': 'IEhEmnQBpTqZn97xl4D6',\n",
       "  'offset': -421,\n",
       "  'offset_count': 2,\n",
       "  'offset_score': 0.005479452054794521},\n",
       " {'key': 'zWK3nHQBX1aUWdbz0wlO',\n",
       "  'offset': -740,\n",
       "  'offset_count': 1,\n",
       "  'offset_score': 0.003787878787878788},\n",
       " {'key': 'F1RVlXQBkSohu0M7gewm',\n",
       "  'offset': 81,\n",
       "  'offset_count': 2,\n",
       "  'offset_score': 0.005025125628140704},\n",
       " {'key': 'Ron-l3QBpGSy5GiAJoWM',\n",
       "  'offset': 448,\n",
       "  'offset_count': 3,\n",
       "  'offset_score': 0.008902077151335312},\n",
       " {'key': 's8BiwHQBeV13-CotNVt4',\n",
       "  'offset': 605,\n",
       "  'offset_count': 1,\n",
       "  'offset_score': 0.0031746031746031746},\n",
       " {'key': 'GMn6onQBEOgj5UvuQn1G',\n",
       "  'offset': 292,\n",
       "  'offset_count': 2,\n",
       "  'offset_score': 0.004016064257028112},\n",
       " {'key': 'Sak0q3QBhBr8eN_GOaiq',\n",
       "  'offset': 534,\n",
       "  'offset_count': 2,\n",
       "  'offset_score': 0.007936507936507936},\n",
       " {'key': 'MNEawHQBWmCctFZvPTn3',\n",
       "  'offset': -785,\n",
       "  'offset_count': 3,\n",
       "  'offset_score': 0.0031120331950207467},\n",
       " {'key': 'fJT7mXQBx_UT1HwNLKqW',\n",
       "  'offset': 290,\n",
       "  'offset_count': 1,\n",
       "  'offset_score': 0.0017211703958691911},\n",
       " {'key': 'oeoMmXQBx_UT1HwNemj2',\n",
       "  'offset': 27,\n",
       "  'offset_count': 1,\n",
       "  'offset_score': 0.0035211267605633804}]"
      ]
     },
     "execution_count": 107,
     "metadata": {},
     "output_type": "execute_result"
    }
   ],
   "source": [
    "def score_with_offset(matches_query, fingerprints, dont_filter=False):\n",
    "    #total_candidates = len(matches_query['aggregations']['scenes']['buckets'])\n",
    "    result = []\n",
    "    #is_first = True\n",
    "    for candidates in matches_query['aggregations']['scenes']['buckets']:\n",
    "        freq = {}\n",
    "        #x = 0\n",
    "        for hit in candidates['top_hits']['hits']['hits']:\n",
    "            #x += 1\n",
    "            match_hash = hit['_source']['hash']\n",
    "            match_offset = hit['_source']['offset']\n",
    "            #print(match_offset, scene_fingerprints[scene_fingerprints[:, 1] == match_hash][0][0], scene_fingerprints[scene_fingerprints[:, 1] == match_hash][0][0] - match_offset)\n",
    "            delta_offset = scene_fingerprints[scene_fingerprints[:, 1] == match_hash][0][0] - match_offset\n",
    "            if delta_offset in freq:\n",
    "                freq[delta_offset] += 1\n",
    "            else:\n",
    "                freq[delta_offset] = 1\n",
    "        #print(x)\n",
    "        #print(freq)\n",
    "        offset = max(freq, key=freq.get)\n",
    "        offset_count = freq[offset]\n",
    "        key = candidates['key']\n",
    "        offset_score = offset_count/candidates['bg_count']\n",
    "        result.append({'key' : key, 'offset' : offset, 'offset_count' : offset_count,\n",
    "                       'offset_score' : offset_score })\n",
    "        #is_first = False\n",
    "    \n",
    "            \n",
    "    return result\n",
    "        \n",
    "score_with_offset(matches_query, scene_fingerprints)\n",
    "            "
   ]
  },
  {
   "cell_type": "code",
   "execution_count": null,
   "metadata": {},
   "outputs": [],
   "source": []
  }
 ],
 "metadata": {
  "kernelspec": {
   "display_name": "Python 3",
   "language": "python",
   "name": "python3"
  },
  "language_info": {
   "codemirror_mode": {
    "name": "ipython",
    "version": 3
   },
   "file_extension": ".py",
   "mimetype": "text/x-python",
   "name": "python",
   "nbconvert_exporter": "python",
   "pygments_lexer": "ipython3",
   "version": "3.7.6"
  }
 },
 "nbformat": 4,
 "nbformat_minor": 4
}
